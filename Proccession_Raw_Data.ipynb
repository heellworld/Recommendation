{
 "cells": [
  {
   "cell_type": "code",
   "execution_count": 48,
   "id": "a182f1a9",
   "metadata": {},
   "outputs": [
    {
     "name": "stderr",
     "output_type": "stream",
     "text": [
      "[nltk_data] Downloading package punkt to\n",
      "[nltk_data]     C:\\Users\\HELLO\\AppData\\Roaming\\nltk_data...\n",
      "[nltk_data]   Package punkt is already up-to-date!\n"
     ]
    }
   ],
   "source": [
    "%matplotlib inline\n",
    "import pandas as pd\n",
    "import numpy as np\n",
    "import re\n",
    "import matplotlib.pyplot as plt\n",
    "import seaborn as sns\n",
    "import nltk\n",
    "from wordcloud import WordCloud\n",
    "from nltk.tokenize import word_tokenize\n",
    "from scipy import stats\n",
    "from ast import literal_eval\n",
    "from nltk.stem.snowball import SnowballStemmer\n",
    "from nltk.stem.wordnet import WordNetLemmatizer\n",
    "from sklearn.feature_extraction.text import TfidfVectorizer\n",
    "from sklearn.metrics.pairwise import linear_kernel\n",
    "from nltk.corpus import wordnet\n",
    "from surprise import Reader, Dataset, SVD\n",
    "from sklearn.preprocessing import MinMaxScaler\n",
    "from sklearn.metrics.pairwise import cosine_similarity\n",
    "import numpy as np\n",
    "# Tải dữ liệu từ nltk\n",
    "nltk.download('punkt')\n",
    "import warnings; warnings.simplefilter('ignore')"
   ]
  },
  {
   "cell_type": "code",
   "execution_count": 2,
   "id": "c99f39ff",
   "metadata": {},
   "outputs": [
    {
     "data": {
      "text/html": [
       "<div>\n",
       "<style scoped>\n",
       "    .dataframe tbody tr th:only-of-type {\n",
       "        vertical-align: middle;\n",
       "    }\n",
       "\n",
       "    .dataframe tbody tr th {\n",
       "        vertical-align: top;\n",
       "    }\n",
       "\n",
       "    .dataframe thead th {\n",
       "        text-align: right;\n",
       "    }\n",
       "</style>\n",
       "<table border=\"1\" class=\"dataframe\">\n",
       "  <thead>\n",
       "    <tr style=\"text-align: right;\">\n",
       "      <th></th>\n",
       "      <th>title</th>\n",
       "      <th>view</th>\n",
       "      <th>vote</th>\n",
       "      <th>describe</th>\n",
       "      <th>information</th>\n",
       "      <th>img</th>\n",
       "      <th>link_title</th>\n",
       "      <th>listlink</th>\n",
       "    </tr>\n",
       "  </thead>\n",
       "  <tbody>\n",
       "    <tr>\n",
       "      <th>0</th>\n",
       "      <td>Tiểu Lam và Tiểu Lục 3</td>\n",
       "      <td>8.681</td>\n",
       "      <td>1.6</td>\n",
       "      <td>Phần 3 của Tiểu Lam Và Tiểu Lục</td>\n",
       "      <td>Tập mới:060504 Trạng thái: Phim đang chiếu/Cập...</td>\n",
       "      <td>https://cdn.animevietsub.fan/data/poster/2023/...</td>\n",
       "      <td>https://animevietsub.fan/phim/tieu-lam-va-tieu...</td>\n",
       "      <td>https://animevietsub.fan/anime-bo/</td>\n",
       "    </tr>\n",
       "    <tr>\n",
       "      <th>1</th>\n",
       "      <td>Thất Hầu Bút Lục</td>\n",
       "      <td>2.495</td>\n",
       "      <td>5.0</td>\n",
       "      <td>Hai nghìn năm trước, một hậu duệ của Gia tộc Y...</td>\n",
       "      <td>Tập mới:030201 Trạng thái: Phim đang chiếu/Cập...</td>\n",
       "      <td>https://cdn.myanimelist.net/images/anime/1831/...</td>\n",
       "      <td>https://animevietsub.fan/phim/that-hau-but-luc...</td>\n",
       "      <td>https://animevietsub.fan/anime-bo/</td>\n",
       "    </tr>\n",
       "    <tr>\n",
       "      <th>2</th>\n",
       "      <td>Kiếm Vực Phong Vân</td>\n",
       "      <td>1,247,603</td>\n",
       "      <td>7.7</td>\n",
       "      <td>Trên Kiếm vực đại lục xa xưa, có mười thanh ki...</td>\n",
       "      <td>Tập mới:999897 Trạng thái: Tập 99 Thể loại: An...</td>\n",
       "      <td>https://cdn.animevietsub.fan/data/poster/2021/...</td>\n",
       "      <td>https://animevietsub.fan/phim/kiem-vuc-phong-v...</td>\n",
       "      <td>https://animevietsub.fan/anime-bo/</td>\n",
       "    </tr>\n",
       "    <tr>\n",
       "      <th>3</th>\n",
       "      <td>Cửu Thiên Huyền Đế Quyết</td>\n",
       "      <td>1,773,588</td>\n",
       "      <td>4.7</td>\n",
       "      <td>Tương truyền Huyền Đế tạo ra Cửu Thiên Huyền Đ...</td>\n",
       "      <td>Tập mới:195194193 Trạng thái: Phim đang chiếu/...</td>\n",
       "      <td>https://cdn.animevietsub.fan/data/poster/2021/...</td>\n",
       "      <td>https://animevietsub.fan/phim/cuu-thien-huyen-...</td>\n",
       "      <td>https://animevietsub.fan/anime-bo/</td>\n",
       "    </tr>\n",
       "    <tr>\n",
       "      <th>4</th>\n",
       "      <td>Ngạo Thế Cửu Trùng Thiên</td>\n",
       "      <td>182.044</td>\n",
       "      <td>9.8</td>\n",
       "      <td>Vì nắm giữ thần vật Cửu Kiếp kiếm của đại lục ...</td>\n",
       "      <td>Tập mới:080706 Trạng thái: Phim đang chiếu/Cập...</td>\n",
       "      <td>https://cdn.animevietsub.fan/data/poster/2023/...</td>\n",
       "      <td>https://animevietsub.fan/phim/ngao-the-cuu-tru...</td>\n",
       "      <td>https://animevietsub.fan/anime-bo/</td>\n",
       "    </tr>\n",
       "  </tbody>\n",
       "</table>\n",
       "</div>"
      ],
      "text/plain": [
       "                      title       view  vote  \\\n",
       "0    Tiểu Lam và Tiểu Lục 3      8.681   1.6   \n",
       "1          Thất Hầu Bút Lục      2.495   5.0   \n",
       "2        Kiếm Vực Phong Vân  1,247,603   7.7   \n",
       "3  Cửu Thiên Huyền Đế Quyết  1,773,588   4.7   \n",
       "4  Ngạo Thế Cửu Trùng Thiên    182.044   9.8   \n",
       "\n",
       "                                            describe  \\\n",
       "0                    Phần 3 của Tiểu Lam Và Tiểu Lục   \n",
       "1  Hai nghìn năm trước, một hậu duệ của Gia tộc Y...   \n",
       "2  Trên Kiếm vực đại lục xa xưa, có mười thanh ki...   \n",
       "3  Tương truyền Huyền Đế tạo ra Cửu Thiên Huyền Đ...   \n",
       "4  Vì nắm giữ thần vật Cửu Kiếp kiếm của đại lục ...   \n",
       "\n",
       "                                         information  \\\n",
       "0  Tập mới:060504 Trạng thái: Phim đang chiếu/Cập...   \n",
       "1  Tập mới:030201 Trạng thái: Phim đang chiếu/Cập...   \n",
       "2  Tập mới:999897 Trạng thái: Tập 99 Thể loại: An...   \n",
       "3  Tập mới:195194193 Trạng thái: Phim đang chiếu/...   \n",
       "4  Tập mới:080706 Trạng thái: Phim đang chiếu/Cập...   \n",
       "\n",
       "                                                 img  \\\n",
       "0  https://cdn.animevietsub.fan/data/poster/2023/...   \n",
       "1  https://cdn.myanimelist.net/images/anime/1831/...   \n",
       "2  https://cdn.animevietsub.fan/data/poster/2021/...   \n",
       "3  https://cdn.animevietsub.fan/data/poster/2021/...   \n",
       "4  https://cdn.animevietsub.fan/data/poster/2023/...   \n",
       "\n",
       "                                          link_title  \\\n",
       "0  https://animevietsub.fan/phim/tieu-lam-va-tieu...   \n",
       "1  https://animevietsub.fan/phim/that-hau-but-luc...   \n",
       "2  https://animevietsub.fan/phim/kiem-vuc-phong-v...   \n",
       "3  https://animevietsub.fan/phim/cuu-thien-huyen-...   \n",
       "4  https://animevietsub.fan/phim/ngao-the-cuu-tru...   \n",
       "\n",
       "                             listlink  \n",
       "0  https://animevietsub.fan/anime-bo/  \n",
       "1  https://animevietsub.fan/anime-bo/  \n",
       "2  https://animevietsub.fan/anime-bo/  \n",
       "3  https://animevietsub.fan/anime-bo/  \n",
       "4  https://animevietsub.fan/anime-bo/  "
      ]
     },
     "execution_count": 2,
     "metadata": {},
     "output_type": "execute_result"
    }
   ],
   "source": [
    "# Tải tệp excel lên\n",
    "df = pd.read_csv(r\"D:\\projects\\Recommendation_Movie\\Data_csv\\Raw_Anime.csv\")\n",
    "#Hiển thị 5 dòng đầu\n",
    "df.head(5)"
   ]
  },
  {
   "cell_type": "code",
   "execution_count": 3,
   "id": "27789fa0",
   "metadata": {},
   "outputs": [
    {
     "name": "stdout",
     "output_type": "stream",
     "text": [
      "<class 'pandas.core.frame.DataFrame'>\n",
      "RangeIndex: 18139 entries, 0 to 18138\n",
      "Data columns (total 8 columns):\n",
      " #   Column       Non-Null Count  Dtype  \n",
      "---  ------       --------------  -----  \n",
      " 0   title        18139 non-null  object \n",
      " 1   view         18139 non-null  object \n",
      " 2   vote         18139 non-null  float64\n",
      " 3   describe     17753 non-null  object \n",
      " 4   information  17122 non-null  object \n",
      " 5   img          18139 non-null  object \n",
      " 6   link_title   18139 non-null  object \n",
      " 7   listlink     18139 non-null  object \n",
      "dtypes: float64(1), object(7)\n",
      "memory usage: 1.1+ MB\n"
     ]
    }
   ],
   "source": [
    "# Thông tin dữ liệu\n",
    "df.info()"
   ]
  },
  {
   "cell_type": "code",
   "execution_count": 4,
   "id": "3d5c4b11",
   "metadata": {},
   "outputs": [
    {
     "data": {
      "text/plain": [
       "title             0\n",
       "view              0\n",
       "vote              0\n",
       "describe        386\n",
       "information    1017\n",
       "img               0\n",
       "link_title        0\n",
       "listlink          0\n",
       "dtype: int64"
      ]
     },
     "execution_count": 4,
     "metadata": {},
     "output_type": "execute_result"
    }
   ],
   "source": [
    "# Kiểm tra giá trị null\n",
    "df.isnull().sum()"
   ]
  },
  {
   "cell_type": "code",
   "execution_count": 5,
   "id": "b966c62d",
   "metadata": {},
   "outputs": [
    {
     "data": {
      "text/plain": [
       "1552"
      ]
     },
     "execution_count": 5,
     "metadata": {},
     "output_type": "execute_result"
    }
   ],
   "source": [
    "# Kiểm tra dữ liệu trùng lặp \n",
    "df.duplicated().sum()"
   ]
  },
  {
   "cell_type": "code",
   "execution_count": 6,
   "id": "87db40a8",
   "metadata": {},
   "outputs": [
    {
     "data": {
      "text/plain": [
       "dtype('int32')"
      ]
     },
     "execution_count": 6,
     "metadata": {},
     "output_type": "execute_result"
    }
   ],
   "source": [
    "# Xóa các dấu phẩy và dấy chấm chuyển cột 'view' thành kiểu int\n",
    "df['view'] = df['view'].str.replace(',', '').str.replace('.', '').astype(int)\n",
    "\n",
    "# Kiểm tra kiểu dữ liệu sau khi chuyển đổi\n",
    "df.dtypes['view']"
   ]
  },
  {
   "cell_type": "code",
   "execution_count": 7,
   "id": "d750cac0",
   "metadata": {},
   "outputs": [],
   "source": [
    "# Xóa các giá trị trùng lặp\n",
    "df = df.drop_duplicates()"
   ]
  },
  {
   "cell_type": "code",
   "execution_count": 8,
   "id": "78dc6d0f",
   "metadata": {},
   "outputs": [
    {
     "data": {
      "text/plain": [
       "0"
      ]
     },
     "execution_count": 8,
     "metadata": {},
     "output_type": "execute_result"
    }
   ],
   "source": [
    "# Kiểm tra dữ liệu trùng lặp \n",
    "df.duplicated().sum()"
   ]
  },
  {
   "cell_type": "code",
   "execution_count": 9,
   "id": "04510f26",
   "metadata": {},
   "outputs": [],
   "source": [
    "# Xóa các giá trị null trong cột 'describe' và 'information'\n",
    "df.dropna(subset=['describe', 'information'], inplace=True)\n"
   ]
  },
  {
   "cell_type": "code",
   "execution_count": 10,
   "id": "f4e5fd65",
   "metadata": {},
   "outputs": [
    {
     "data": {
      "text/plain": [
       "title          0\n",
       "view           0\n",
       "vote           0\n",
       "describe       0\n",
       "information    0\n",
       "img            0\n",
       "link_title     0\n",
       "listlink       0\n",
       "dtype: int64"
      ]
     },
     "execution_count": 10,
     "metadata": {},
     "output_type": "execute_result"
    }
   ],
   "source": [
    "# Kiểm tra lại giá trị null\n",
    "df.isnull().sum()"
   ]
  },
  {
   "cell_type": "markdown",
   "id": "a66e4106",
   "metadata": {},
   "source": [
    "Tách cột information thành các cột khác theo thông tin"
   ]
  },
  {
   "cell_type": "code",
   "execution_count": 11,
   "id": "c4139af6",
   "metadata": {},
   "outputs": [],
   "source": [
    "# Copy lại bộ dữ liêu df\n",
    "data = df.copy()"
   ]
  },
  {
   "cell_type": "code",
   "execution_count": 12,
   "id": "4fe54dfe",
   "metadata": {
    "scrolled": true
   },
   "outputs": [
    {
     "data": {
      "text/html": [
       "<div>\n",
       "<style scoped>\n",
       "    .dataframe tbody tr th:only-of-type {\n",
       "        vertical-align: middle;\n",
       "    }\n",
       "\n",
       "    .dataframe tbody tr th {\n",
       "        vertical-align: top;\n",
       "    }\n",
       "\n",
       "    .dataframe thead th {\n",
       "        text-align: right;\n",
       "    }\n",
       "</style>\n",
       "<table border=\"1\" class=\"dataframe\">\n",
       "  <thead>\n",
       "    <tr style=\"text-align: right;\">\n",
       "      <th></th>\n",
       "      <th>title</th>\n",
       "      <th>view</th>\n",
       "      <th>vote</th>\n",
       "      <th>describe</th>\n",
       "      <th>img</th>\n",
       "      <th>link_title</th>\n",
       "      <th>listlink</th>\n",
       "      <th>tập mới</th>\n",
       "      <th>trạng thái</th>\n",
       "      <th>thể loại</th>\n",
       "      <th>đạo diễn</th>\n",
       "      <th>quốc gia</th>\n",
       "      <th>số người theo dõi</th>\n",
       "      <th>thời lượng</th>\n",
       "      <th>chất lượng</th>\n",
       "      <th>rating</th>\n",
       "      <th>ngôn ngữ</th>\n",
       "      <th>studio</th>\n",
       "      <th>season</th>\n",
       "    </tr>\n",
       "  </thead>\n",
       "  <tbody>\n",
       "    <tr>\n",
       "      <th>0</th>\n",
       "      <td>Tiểu Lam và Tiểu Lục 3</td>\n",
       "      <td>8681</td>\n",
       "      <td>1.6</td>\n",
       "      <td>Phần 3 của Tiểu Lam Và Tiểu Lục</td>\n",
       "      <td>https://cdn.animevietsub.fan/data/poster/2023/...</td>\n",
       "      <td>https://animevietsub.fan/phim/tieu-lam-va-tieu...</td>\n",
       "      <td>https://animevietsub.fan/anime-bo/</td>\n",
       "      <td>060504</td>\n",
       "      <td>Phim đang chiếu/Cập Nhật Tập 06 VietSub</td>\n",
       "      <td>['Anime bộ', 'Fantasy', 'Drama', 'Comedy,']</td>\n",
       "      <td></td>\n",
       "      <td>Trung Quốc,</td>\n",
       "      <td>7</td>\n",
       "      <td>06/??</td>\n",
       "      <td>HD</td>\n",
       "      <td>PG-13 - Teens 13 tuổi trở lên</td>\n",
       "      <td>VietSub</td>\n",
       "      <td>['None found', 'add some']</td>\n",
       "      <td>Mùa Xuân - 2023</td>\n",
       "    </tr>\n",
       "    <tr>\n",
       "      <th>1</th>\n",
       "      <td>Thất Hầu Bút Lục</td>\n",
       "      <td>2495</td>\n",
       "      <td>5.0</td>\n",
       "      <td>Hai nghìn năm trước, một hậu duệ của Gia tộc Y...</td>\n",
       "      <td>https://cdn.myanimelist.net/images/anime/1831/...</td>\n",
       "      <td>https://animevietsub.fan/phim/that-hau-but-luc...</td>\n",
       "      <td>https://animevietsub.fan/anime-bo/</td>\n",
       "      <td>030201</td>\n",
       "      <td>Phim đang chiếu/Cập Nhật Tập 03 VietSub</td>\n",
       "      <td>['Anime bộ', 'Fantasy', 'Adventure', 'Historic...</td>\n",
       "      <td></td>\n",
       "      <td>Trung Quốc,</td>\n",
       "      <td>25</td>\n",
       "      <td>03/12</td>\n",
       "      <td>HD</td>\n",
       "      <td>PG-13 - Teens 13 tuổi trở lên</td>\n",
       "      <td>VietSub</td>\n",
       "      <td>L²Studio</td>\n",
       "      <td>Mùa Xuân - 2023</td>\n",
       "    </tr>\n",
       "    <tr>\n",
       "      <th>2</th>\n",
       "      <td>Kiếm Vực Phong Vân</td>\n",
       "      <td>1247603</td>\n",
       "      <td>7.7</td>\n",
       "      <td>Trên Kiếm vực đại lục xa xưa, có mười thanh ki...</td>\n",
       "      <td>https://cdn.animevietsub.fan/data/poster/2021/...</td>\n",
       "      <td>https://animevietsub.fan/phim/kiem-vuc-phong-v...</td>\n",
       "      <td>https://animevietsub.fan/anime-bo/</td>\n",
       "      <td>999897</td>\n",
       "      <td>Tập 99</td>\n",
       "      <td>['Anime bộ', 'Fantasy', 'Adventure', 'Martial ...</td>\n",
       "      <td></td>\n",
       "      <td>Trung Quốc,</td>\n",
       "      <td>1,417</td>\n",
       "      <td>99/??</td>\n",
       "      <td>HD</td>\n",
       "      <td>PG-13 - Teens 13 tuổi trở lên</td>\n",
       "      <td>VietSub</td>\n",
       "      <td>Ruo Hong Culture</td>\n",
       "      <td>Mùa Thu - 2021</td>\n",
       "    </tr>\n",
       "    <tr>\n",
       "      <th>3</th>\n",
       "      <td>Cửu Thiên Huyền Đế Quyết</td>\n",
       "      <td>1773588</td>\n",
       "      <td>4.7</td>\n",
       "      <td>Tương truyền Huyền Đế tạo ra Cửu Thiên Huyền Đ...</td>\n",
       "      <td>https://cdn.animevietsub.fan/data/poster/2021/...</td>\n",
       "      <td>https://animevietsub.fan/phim/cuu-thien-huyen-...</td>\n",
       "      <td>https://animevietsub.fan/anime-bo/</td>\n",
       "      <td>195194193</td>\n",
       "      <td>Phim đang chiếu/Cập Nhật Tập 195 VietSub</td>\n",
       "      <td>['Anime bộ', 'Action,']</td>\n",
       "      <td></td>\n",
       "      <td>Trung Quốc,</td>\n",
       "      <td>2,077</td>\n",
       "      <td>195/??</td>\n",
       "      <td>HD</td>\n",
       "      <td>None</td>\n",
       "      <td>VietSub</td>\n",
       "      <td>Đang Cập Nhập</td>\n",
       "      <td>Mùa Thu - 2021</td>\n",
       "    </tr>\n",
       "    <tr>\n",
       "      <th>4</th>\n",
       "      <td>Ngạo Thế Cửu Trùng Thiên</td>\n",
       "      <td>182044</td>\n",
       "      <td>9.8</td>\n",
       "      <td>Vì nắm giữ thần vật Cửu Kiếp kiếm của đại lục ...</td>\n",
       "      <td>https://cdn.animevietsub.fan/data/poster/2023/...</td>\n",
       "      <td>https://animevietsub.fan/phim/ngao-the-cuu-tru...</td>\n",
       "      <td>https://animevietsub.fan/anime-bo/</td>\n",
       "      <td>080706</td>\n",
       "      <td>Phim đang chiếu/Cập Nhật Tập 08 VietSub</td>\n",
       "      <td>['Anime bộ', 'Cartoon,']</td>\n",
       "      <td></td>\n",
       "      <td>Trung Quốc,</td>\n",
       "      <td>214</td>\n",
       "      <td>08/??</td>\n",
       "      <td>HD</td>\n",
       "      <td>PG-13 - Teens 13 tuổi trở lên</td>\n",
       "      <td>VietSub</td>\n",
       "      <td>None</td>\n",
       "      <td>Mùa Xuân - 2023</td>\n",
       "    </tr>\n",
       "  </tbody>\n",
       "</table>\n",
       "</div>"
      ],
      "text/plain": [
       "                      title     view vote  \\\n",
       "0    Tiểu Lam và Tiểu Lục 3     8681  1.6   \n",
       "1          Thất Hầu Bút Lục     2495  5.0   \n",
       "2        Kiếm Vực Phong Vân  1247603  7.7   \n",
       "3  Cửu Thiên Huyền Đế Quyết  1773588  4.7   \n",
       "4  Ngạo Thế Cửu Trùng Thiên   182044  9.8   \n",
       "\n",
       "                                            describe  \\\n",
       "0                    Phần 3 của Tiểu Lam Và Tiểu Lục   \n",
       "1  Hai nghìn năm trước, một hậu duệ của Gia tộc Y...   \n",
       "2  Trên Kiếm vực đại lục xa xưa, có mười thanh ki...   \n",
       "3  Tương truyền Huyền Đế tạo ra Cửu Thiên Huyền Đ...   \n",
       "4  Vì nắm giữ thần vật Cửu Kiếp kiếm của đại lục ...   \n",
       "\n",
       "                                                 img  \\\n",
       "0  https://cdn.animevietsub.fan/data/poster/2023/...   \n",
       "1  https://cdn.myanimelist.net/images/anime/1831/...   \n",
       "2  https://cdn.animevietsub.fan/data/poster/2021/...   \n",
       "3  https://cdn.animevietsub.fan/data/poster/2021/...   \n",
       "4  https://cdn.animevietsub.fan/data/poster/2023/...   \n",
       "\n",
       "                                          link_title  \\\n",
       "0  https://animevietsub.fan/phim/tieu-lam-va-tieu...   \n",
       "1  https://animevietsub.fan/phim/that-hau-but-luc...   \n",
       "2  https://animevietsub.fan/phim/kiem-vuc-phong-v...   \n",
       "3  https://animevietsub.fan/phim/cuu-thien-huyen-...   \n",
       "4  https://animevietsub.fan/phim/ngao-the-cuu-tru...   \n",
       "\n",
       "                             listlink    tập mới  \\\n",
       "0  https://animevietsub.fan/anime-bo/     060504   \n",
       "1  https://animevietsub.fan/anime-bo/     030201   \n",
       "2  https://animevietsub.fan/anime-bo/     999897   \n",
       "3  https://animevietsub.fan/anime-bo/  195194193   \n",
       "4  https://animevietsub.fan/anime-bo/     080706   \n",
       "\n",
       "                                 trạng thái  \\\n",
       "0   Phim đang chiếu/Cập Nhật Tập 06 VietSub   \n",
       "1   Phim đang chiếu/Cập Nhật Tập 03 VietSub   \n",
       "2                                    Tập 99   \n",
       "3  Phim đang chiếu/Cập Nhật Tập 195 VietSub   \n",
       "4   Phim đang chiếu/Cập Nhật Tập 08 VietSub   \n",
       "\n",
       "                                            thể loại đạo diễn     quốc gia  \\\n",
       "0        ['Anime bộ', 'Fantasy', 'Drama', 'Comedy,']           Trung Quốc,   \n",
       "1  ['Anime bộ', 'Fantasy', 'Adventure', 'Historic...           Trung Quốc,   \n",
       "2  ['Anime bộ', 'Fantasy', 'Adventure', 'Martial ...           Trung Quốc,   \n",
       "3                            ['Anime bộ', 'Action,']           Trung Quốc,   \n",
       "4                           ['Anime bộ', 'Cartoon,']           Trung Quốc,   \n",
       "\n",
       "  số người theo dõi thời lượng chất lượng                         rating  \\\n",
       "0                 7      06/??         HD  PG-13 - Teens 13 tuổi trở lên   \n",
       "1                25      03/12         HD  PG-13 - Teens 13 tuổi trở lên   \n",
       "2             1,417      99/??         HD  PG-13 - Teens 13 tuổi trở lên   \n",
       "3             2,077     195/??         HD                           None   \n",
       "4               214      08/??         HD  PG-13 - Teens 13 tuổi trở lên   \n",
       "\n",
       "  ngôn ngữ                      studio           season  \n",
       "0  VietSub  ['None found', 'add some']  Mùa Xuân - 2023  \n",
       "1  VietSub                    L²Studio  Mùa Xuân - 2023  \n",
       "2  VietSub            Ruo Hong Culture   Mùa Thu - 2021  \n",
       "3  VietSub               Đang Cập Nhập   Mùa Thu - 2021  \n",
       "4  VietSub                        None  Mùa Xuân - 2023  "
      ]
     },
     "execution_count": 12,
     "metadata": {},
     "output_type": "execute_result"
    }
   ],
   "source": [
    "# Tách cột information thành các cột khác theo thông tin\n",
    "\n",
    "# Các từ khóa cần tìm\n",
    "keywords = ['Tập mới', 'Trạng thái', 'Thể loại', 'Đạo diễn', 'Quốc gia', 'Số người theo dõi', 'Thời lượng', 'Chất lượng', 'Rating', 'Ngôn ngữ', 'Studio', 'Season']\n",
    "\n",
    "# Hàm trích xuất dữ liệu\n",
    "def extract_keyword_data(information, keyword):\n",
    "    if isinstance(information, str):\n",
    "        # Tìm data cho từ khóa hiện tại\n",
    "        current_data_match = re.search(f'{keyword}:(.*?)(?=(?:{ \"|\".join(keywords) }):|$)', information)\n",
    "        if current_data_match:\n",
    "            # Trích xuất dữ liệu không có từ khóa\n",
    "            current_data = current_data_match.group(1).strip()\n",
    "            \n",
    "            if ',' in current_data:\n",
    "                # Chuyển đổi thành danh sách các giá trị nếu có dấu phẩy\n",
    "                return current_data.split(', ')\n",
    "            else:\n",
    "                # Chuyển đổi thành chuỗi (str) nếu không có dấu phẩy\n",
    "                return current_data\n",
    "\n",
    "# Áp dụng hàm trích xuất cho từng từ khóa\n",
    "for keyword in keywords:\n",
    "    data[keyword.lower()] = data['information'].apply(lambda x: extract_keyword_data(x, keyword))\n",
    "\n",
    "# Xóa cột 'information'\n",
    "data.drop(columns=['information'], inplace=True)\n",
    "\n",
    "# Chuyển đổi danh sách chỉ chứa một phần tử thành chuỗi (str)\n",
    "for keyword in keywords:\n",
    "    data[keyword.lower()] = data[keyword.lower()].apply(lambda x: x[0] if isinstance(x, list) and len(x) == 1 else x)\n",
    "\n",
    "# Chuyển tất cả các giá trị thành kiểu dữ liệu chuỗi (str)\n",
    "data = data.astype(str)\n",
    "data.head(5)"
   ]
  },
  {
   "cell_type": "code",
   "execution_count": 13,
   "id": "28fec9a2",
   "metadata": {},
   "outputs": [],
   "source": [
    "# Xóa cột không mang ý nghĩa\n",
    "data = data.drop(columns=[\"img\",\"link_title\", \"listlink\",\"tập mới\",\"trạng thái\",\"đạo diễn\",\"thời lượng\",\"chất lượng\",\"ngôn ngữ\",\"studio\"])"
   ]
  },
  {
   "cell_type": "code",
   "execution_count": 14,
   "id": "7e6f0120",
   "metadata": {},
   "outputs": [],
   "source": [
    "# Đổi tên các cột \n",
    "data = data.rename(columns={'thể loại': 'movie_genre', 'quốc gia': 'nation', 'số người theo dõi': 'follower'})"
   ]
  },
  {
   "cell_type": "code",
   "execution_count": 15,
   "id": "66622de6",
   "metadata": {},
   "outputs": [
    {
     "data": {
      "text/html": [
       "<div>\n",
       "<style scoped>\n",
       "    .dataframe tbody tr th:only-of-type {\n",
       "        vertical-align: middle;\n",
       "    }\n",
       "\n",
       "    .dataframe tbody tr th {\n",
       "        vertical-align: top;\n",
       "    }\n",
       "\n",
       "    .dataframe thead th {\n",
       "        text-align: right;\n",
       "    }\n",
       "</style>\n",
       "<table border=\"1\" class=\"dataframe\">\n",
       "  <thead>\n",
       "    <tr style=\"text-align: right;\">\n",
       "      <th></th>\n",
       "      <th>title</th>\n",
       "      <th>view</th>\n",
       "      <th>vote</th>\n",
       "      <th>describe</th>\n",
       "      <th>movie_genre</th>\n",
       "      <th>nation</th>\n",
       "      <th>follower</th>\n",
       "      <th>rating</th>\n",
       "      <th>season</th>\n",
       "    </tr>\n",
       "  </thead>\n",
       "  <tbody>\n",
       "    <tr>\n",
       "      <th>0</th>\n",
       "      <td>Tiểu Lam và Tiểu Lục 3</td>\n",
       "      <td>8681</td>\n",
       "      <td>1.6</td>\n",
       "      <td>Phần 3 của Tiểu Lam Và Tiểu Lục</td>\n",
       "      <td>['Anime bộ', 'Fantasy', 'Drama', 'Comedy,']</td>\n",
       "      <td>Trung Quốc,</td>\n",
       "      <td>7</td>\n",
       "      <td>PG-13 - Teens 13 tuổi trở lên</td>\n",
       "      <td>Mùa Xuân - 2023</td>\n",
       "    </tr>\n",
       "    <tr>\n",
       "      <th>1</th>\n",
       "      <td>Thất Hầu Bút Lục</td>\n",
       "      <td>2495</td>\n",
       "      <td>5.0</td>\n",
       "      <td>Hai nghìn năm trước, một hậu duệ của Gia tộc Y...</td>\n",
       "      <td>['Anime bộ', 'Fantasy', 'Adventure', 'Historic...</td>\n",
       "      <td>Trung Quốc,</td>\n",
       "      <td>25</td>\n",
       "      <td>PG-13 - Teens 13 tuổi trở lên</td>\n",
       "      <td>Mùa Xuân - 2023</td>\n",
       "    </tr>\n",
       "    <tr>\n",
       "      <th>2</th>\n",
       "      <td>Kiếm Vực Phong Vân</td>\n",
       "      <td>1247603</td>\n",
       "      <td>7.7</td>\n",
       "      <td>Trên Kiếm vực đại lục xa xưa, có mười thanh ki...</td>\n",
       "      <td>['Anime bộ', 'Fantasy', 'Adventure', 'Martial ...</td>\n",
       "      <td>Trung Quốc,</td>\n",
       "      <td>1,417</td>\n",
       "      <td>PG-13 - Teens 13 tuổi trở lên</td>\n",
       "      <td>Mùa Thu - 2021</td>\n",
       "    </tr>\n",
       "    <tr>\n",
       "      <th>3</th>\n",
       "      <td>Cửu Thiên Huyền Đế Quyết</td>\n",
       "      <td>1773588</td>\n",
       "      <td>4.7</td>\n",
       "      <td>Tương truyền Huyền Đế tạo ra Cửu Thiên Huyền Đ...</td>\n",
       "      <td>['Anime bộ', 'Action,']</td>\n",
       "      <td>Trung Quốc,</td>\n",
       "      <td>2,077</td>\n",
       "      <td>None</td>\n",
       "      <td>Mùa Thu - 2021</td>\n",
       "    </tr>\n",
       "    <tr>\n",
       "      <th>4</th>\n",
       "      <td>Ngạo Thế Cửu Trùng Thiên</td>\n",
       "      <td>182044</td>\n",
       "      <td>9.8</td>\n",
       "      <td>Vì nắm giữ thần vật Cửu Kiếp kiếm của đại lục ...</td>\n",
       "      <td>['Anime bộ', 'Cartoon,']</td>\n",
       "      <td>Trung Quốc,</td>\n",
       "      <td>214</td>\n",
       "      <td>PG-13 - Teens 13 tuổi trở lên</td>\n",
       "      <td>Mùa Xuân - 2023</td>\n",
       "    </tr>\n",
       "  </tbody>\n",
       "</table>\n",
       "</div>"
      ],
      "text/plain": [
       "                      title     view vote  \\\n",
       "0    Tiểu Lam và Tiểu Lục 3     8681  1.6   \n",
       "1          Thất Hầu Bút Lục     2495  5.0   \n",
       "2        Kiếm Vực Phong Vân  1247603  7.7   \n",
       "3  Cửu Thiên Huyền Đế Quyết  1773588  4.7   \n",
       "4  Ngạo Thế Cửu Trùng Thiên   182044  9.8   \n",
       "\n",
       "                                            describe  \\\n",
       "0                    Phần 3 của Tiểu Lam Và Tiểu Lục   \n",
       "1  Hai nghìn năm trước, một hậu duệ của Gia tộc Y...   \n",
       "2  Trên Kiếm vực đại lục xa xưa, có mười thanh ki...   \n",
       "3  Tương truyền Huyền Đế tạo ra Cửu Thiên Huyền Đ...   \n",
       "4  Vì nắm giữ thần vật Cửu Kiếp kiếm của đại lục ...   \n",
       "\n",
       "                                         movie_genre       nation follower  \\\n",
       "0        ['Anime bộ', 'Fantasy', 'Drama', 'Comedy,']  Trung Quốc,        7   \n",
       "1  ['Anime bộ', 'Fantasy', 'Adventure', 'Historic...  Trung Quốc,       25   \n",
       "2  ['Anime bộ', 'Fantasy', 'Adventure', 'Martial ...  Trung Quốc,    1,417   \n",
       "3                            ['Anime bộ', 'Action,']  Trung Quốc,    2,077   \n",
       "4                           ['Anime bộ', 'Cartoon,']  Trung Quốc,      214   \n",
       "\n",
       "                          rating           season  \n",
       "0  PG-13 - Teens 13 tuổi trở lên  Mùa Xuân - 2023  \n",
       "1  PG-13 - Teens 13 tuổi trở lên  Mùa Xuân - 2023  \n",
       "2  PG-13 - Teens 13 tuổi trở lên   Mùa Thu - 2021  \n",
       "3                           None   Mùa Thu - 2021  \n",
       "4  PG-13 - Teens 13 tuổi trở lên  Mùa Xuân - 2023  "
      ]
     },
     "execution_count": 15,
     "metadata": {},
     "output_type": "execute_result"
    }
   ],
   "source": [
    "data.head()"
   ]
  },
  {
   "cell_type": "code",
   "execution_count": 16,
   "id": "9b67ab2e",
   "metadata": {},
   "outputs": [
    {
     "data": {
      "text/plain": [
       "(15462, 9)"
      ]
     },
     "execution_count": 16,
     "metadata": {},
     "output_type": "execute_result"
    }
   ],
   "source": [
    "data.shape"
   ]
  },
  {
   "cell_type": "code",
   "execution_count": 17,
   "id": "202f9dcb",
   "metadata": {},
   "outputs": [
    {
     "data": {
      "text/plain": [
       "title          0\n",
       "view           0\n",
       "vote           0\n",
       "describe       0\n",
       "movie_genre    0\n",
       "nation         0\n",
       "follower       0\n",
       "rating         0\n",
       "season         0\n",
       "dtype: int64"
      ]
     },
     "execution_count": 17,
     "metadata": {},
     "output_type": "execute_result"
    }
   ],
   "source": [
    "# Kiểm tra giá trị null\n",
    "data.isnull().sum()"
   ]
  },
  {
   "cell_type": "code",
   "execution_count": 18,
   "id": "37594e21",
   "metadata": {},
   "outputs": [
    {
     "data": {
      "text/html": [
       "<div>\n",
       "<style scoped>\n",
       "    .dataframe tbody tr th:only-of-type {\n",
       "        vertical-align: middle;\n",
       "    }\n",
       "\n",
       "    .dataframe tbody tr th {\n",
       "        vertical-align: top;\n",
       "    }\n",
       "\n",
       "    .dataframe thead th {\n",
       "        text-align: right;\n",
       "    }\n",
       "</style>\n",
       "<table border=\"1\" class=\"dataframe\">\n",
       "  <thead>\n",
       "    <tr style=\"text-align: right;\">\n",
       "      <th></th>\n",
       "      <th>title</th>\n",
       "      <th>view</th>\n",
       "      <th>vote</th>\n",
       "      <th>describe</th>\n",
       "      <th>movie_genre</th>\n",
       "      <th>nation</th>\n",
       "      <th>follower</th>\n",
       "      <th>rating</th>\n",
       "      <th>season</th>\n",
       "    </tr>\n",
       "  </thead>\n",
       "  <tbody>\n",
       "    <tr>\n",
       "      <th>count</th>\n",
       "      <td>15462</td>\n",
       "      <td>15462</td>\n",
       "      <td>15462</td>\n",
       "      <td>15462</td>\n",
       "      <td>15462</td>\n",
       "      <td>15462</td>\n",
       "      <td>15462</td>\n",
       "      <td>15462</td>\n",
       "      <td>15462</td>\n",
       "    </tr>\n",
       "    <tr>\n",
       "      <th>unique</th>\n",
       "      <td>4867</td>\n",
       "      <td>10046</td>\n",
       "      <td>82</td>\n",
       "      <td>4861</td>\n",
       "      <td>2517</td>\n",
       "      <td>7</td>\n",
       "      <td>1791</td>\n",
       "      <td>19</td>\n",
       "      <td>178</td>\n",
       "    </tr>\n",
       "    <tr>\n",
       "      <th>top</th>\n",
       "      <td>Cuộc Sống Chậm Của Chiến Binh Hắc Ám Bị Cho Về...</td>\n",
       "      <td>11104</td>\n",
       "      <td>9.6</td>\n",
       "      <td>Được Quân đoàn của Quỷ vương cưu mang và nuôi ...</td>\n",
       "      <td>['Anime bộ', 'Slice of Life', 'Comedy,']</td>\n",
       "      <td>Nhật Bản,</td>\n",
       "      <td>0</td>\n",
       "      <td>PG-13 - Teens 13 tuổi trở lên</td>\n",
       "      <td>Mùa Xuân - 2023</td>\n",
       "    </tr>\n",
       "    <tr>\n",
       "      <th>freq</th>\n",
       "      <td>13</td>\n",
       "      <td>12</td>\n",
       "      <td>1058</td>\n",
       "      <td>13</td>\n",
       "      <td>167</td>\n",
       "      <td>14318</td>\n",
       "      <td>397</td>\n",
       "      <td>9503</td>\n",
       "      <td>443</td>\n",
       "    </tr>\n",
       "  </tbody>\n",
       "</table>\n",
       "</div>"
      ],
      "text/plain": [
       "                                                    title   view   vote  \\\n",
       "count                                               15462  15462  15462   \n",
       "unique                                               4867  10046     82   \n",
       "top     Cuộc Sống Chậm Của Chiến Binh Hắc Ám Bị Cho Về...  11104    9.6   \n",
       "freq                                                   13     12   1058   \n",
       "\n",
       "                                                 describe  \\\n",
       "count                                               15462   \n",
       "unique                                               4861   \n",
       "top     Được Quân đoàn của Quỷ vương cưu mang và nuôi ...   \n",
       "freq                                                   13   \n",
       "\n",
       "                                     movie_genre     nation follower  \\\n",
       "count                                      15462      15462    15462   \n",
       "unique                                      2517          7     1791   \n",
       "top     ['Anime bộ', 'Slice of Life', 'Comedy,']  Nhật Bản,        0   \n",
       "freq                                         167      14318      397   \n",
       "\n",
       "                               rating           season  \n",
       "count                           15462            15462  \n",
       "unique                             19              178  \n",
       "top     PG-13 - Teens 13 tuổi trở lên  Mùa Xuân - 2023  \n",
       "freq                             9503              443  "
      ]
     },
     "execution_count": 18,
     "metadata": {},
     "output_type": "execute_result"
    }
   ],
   "source": [
    "data.describe()"
   ]
  },
  {
   "cell_type": "code",
   "execution_count": 19,
   "id": "471960cf",
   "metadata": {},
   "outputs": [
    {
     "name": "stdout",
     "output_type": "stream",
     "text": [
      "<class 'pandas.core.frame.DataFrame'>\n",
      "Index: 15462 entries, 0 to 18138\n",
      "Data columns (total 9 columns):\n",
      " #   Column       Non-Null Count  Dtype \n",
      "---  ------       --------------  ----- \n",
      " 0   title        15462 non-null  object\n",
      " 1   view         15462 non-null  object\n",
      " 2   vote         15462 non-null  object\n",
      " 3   describe     15462 non-null  object\n",
      " 4   movie_genre  15462 non-null  object\n",
      " 5   nation       15462 non-null  object\n",
      " 6   follower     15462 non-null  object\n",
      " 7   rating       15462 non-null  object\n",
      " 8   season       15462 non-null  object\n",
      "dtypes: object(9)\n",
      "memory usage: 1.2+ MB\n"
     ]
    }
   ],
   "source": [
    "data.info()"
   ]
  },
  {
   "cell_type": "code",
   "execution_count": 20,
   "id": "911ef93a",
   "metadata": {},
   "outputs": [
    {
     "data": {
      "text/plain": [
       "0    2023\n",
       "1    2023\n",
       "2    2021\n",
       "3    2021\n",
       "4    2023\n",
       "Name: season, dtype: object"
      ]
     },
     "execution_count": 20,
     "metadata": {},
     "output_type": "execute_result"
    }
   ],
   "source": [
    "# Cột season chỉ lấy giá trị là số\n",
    "data['season'] = data['season'].str.extract('(\\d{4})')\n",
    "data['season'].head()"
   ]
  },
  {
   "cell_type": "code",
   "execution_count": 21,
   "id": "1951fc2e",
   "metadata": {},
   "outputs": [],
   "source": [
    "# Xóa năm 2099 trong cột ‘season’\n",
    "data = data[data['season'] != 2099]"
   ]
  },
  {
   "cell_type": "code",
   "execution_count": 22,
   "id": "07882d93",
   "metadata": {},
   "outputs": [],
   "source": [
    "# Xóa giá trị trùng lặp trong cột \"title\"\n",
    "data = data.drop_duplicates(subset='title', keep='first')"
   ]
  },
  {
   "cell_type": "code",
   "execution_count": 23,
   "id": "d8589183",
   "metadata": {},
   "outputs": [
    {
     "data": {
      "text/plain": [
       "(4867, 9)"
      ]
     },
     "execution_count": 23,
     "metadata": {},
     "output_type": "execute_result"
    }
   ],
   "source": [
    "data.shape"
   ]
  },
  {
   "cell_type": "code",
   "execution_count": 24,
   "id": "6bf9b10c",
   "metadata": {},
   "outputs": [],
   "source": [
    "# Chuyển tất cả các giá trị trong dataframe thành chữ thường\n",
    "data = data.apply(lambda x: x.astype(str).str.lower() if x.dtype == 'object' else x)\n"
   ]
  },
  {
   "cell_type": "code",
   "execution_count": 25,
   "id": "13817edc",
   "metadata": {},
   "outputs": [],
   "source": [
    "# Kiểm tra kiểu dữ liệu của cột \"follower\" và chuyển đổi thành chuỗi nếu cần thiết\n",
    "if data['follower'].dtype != 'object':\n",
    "    data['follower'] = data['follower'].astype(str)\n",
    "\n",
    "# Loại bỏ dấu chấm trong cột \"follower\"\n",
    "data['follower'] = data['follower'].str.replace(',', '')"
   ]
  },
  {
   "cell_type": "code",
   "execution_count": 26,
   "id": "1a4a5e10",
   "metadata": {},
   "outputs": [],
   "source": [
    "# Loại bỏ dấu phẩy trong cột \"nation\"\n",
    "data['nation'] = data['nation'].str.replace(',', '')"
   ]
  },
  {
   "cell_type": "code",
   "execution_count": 27,
   "id": "66e9d2df",
   "metadata": {},
   "outputs": [
    {
     "data": {
      "text/html": [
       "<div>\n",
       "<style scoped>\n",
       "    .dataframe tbody tr th:only-of-type {\n",
       "        vertical-align: middle;\n",
       "    }\n",
       "\n",
       "    .dataframe tbody tr th {\n",
       "        vertical-align: top;\n",
       "    }\n",
       "\n",
       "    .dataframe thead th {\n",
       "        text-align: right;\n",
       "    }\n",
       "</style>\n",
       "<table border=\"1\" class=\"dataframe\">\n",
       "  <thead>\n",
       "    <tr style=\"text-align: right;\">\n",
       "      <th></th>\n",
       "      <th>title</th>\n",
       "      <th>view</th>\n",
       "      <th>vote</th>\n",
       "      <th>describe</th>\n",
       "      <th>movie_genre</th>\n",
       "      <th>nation</th>\n",
       "      <th>follower</th>\n",
       "      <th>rating</th>\n",
       "      <th>season</th>\n",
       "    </tr>\n",
       "  </thead>\n",
       "  <tbody>\n",
       "    <tr>\n",
       "      <th>0</th>\n",
       "      <td>tiểu lam và tiểu lục 3</td>\n",
       "      <td>8681</td>\n",
       "      <td>1.6</td>\n",
       "      <td>phần 3 của tiểu lam và tiểu lục</td>\n",
       "      <td>['anime bộ', 'fantasy', 'drama', 'comedy,']</td>\n",
       "      <td>trung quốc</td>\n",
       "      <td>7</td>\n",
       "      <td>pg-13 - teens 13 tuổi trở lên</td>\n",
       "      <td>2023</td>\n",
       "    </tr>\n",
       "    <tr>\n",
       "      <th>1</th>\n",
       "      <td>thất hầu bút lục</td>\n",
       "      <td>2495</td>\n",
       "      <td>5.0</td>\n",
       "      <td>hai nghìn năm trước, một hậu duệ của gia tộc y...</td>\n",
       "      <td>['anime bộ', 'fantasy', 'adventure', 'historic...</td>\n",
       "      <td>trung quốc</td>\n",
       "      <td>25</td>\n",
       "      <td>pg-13 - teens 13 tuổi trở lên</td>\n",
       "      <td>2023</td>\n",
       "    </tr>\n",
       "    <tr>\n",
       "      <th>2</th>\n",
       "      <td>kiếm vực phong vân</td>\n",
       "      <td>1247603</td>\n",
       "      <td>7.7</td>\n",
       "      <td>trên kiếm vực đại lục xa xưa, có mười thanh ki...</td>\n",
       "      <td>['anime bộ', 'fantasy', 'adventure', 'martial ...</td>\n",
       "      <td>trung quốc</td>\n",
       "      <td>1417</td>\n",
       "      <td>pg-13 - teens 13 tuổi trở lên</td>\n",
       "      <td>2021</td>\n",
       "    </tr>\n",
       "    <tr>\n",
       "      <th>3</th>\n",
       "      <td>cửu thiên huyền đế quyết</td>\n",
       "      <td>1773588</td>\n",
       "      <td>4.7</td>\n",
       "      <td>tương truyền huyền đế tạo ra cửu thiên huyền đ...</td>\n",
       "      <td>['anime bộ', 'action,']</td>\n",
       "      <td>trung quốc</td>\n",
       "      <td>2077</td>\n",
       "      <td>none</td>\n",
       "      <td>2021</td>\n",
       "    </tr>\n",
       "    <tr>\n",
       "      <th>4</th>\n",
       "      <td>ngạo thế cửu trùng thiên</td>\n",
       "      <td>182044</td>\n",
       "      <td>9.8</td>\n",
       "      <td>vì nắm giữ thần vật cửu kiếp kiếm của đại lục ...</td>\n",
       "      <td>['anime bộ', 'cartoon,']</td>\n",
       "      <td>trung quốc</td>\n",
       "      <td>214</td>\n",
       "      <td>pg-13 - teens 13 tuổi trở lên</td>\n",
       "      <td>2023</td>\n",
       "    </tr>\n",
       "  </tbody>\n",
       "</table>\n",
       "</div>"
      ],
      "text/plain": [
       "                      title     view vote  \\\n",
       "0    tiểu lam và tiểu lục 3     8681  1.6   \n",
       "1          thất hầu bút lục     2495  5.0   \n",
       "2        kiếm vực phong vân  1247603  7.7   \n",
       "3  cửu thiên huyền đế quyết  1773588  4.7   \n",
       "4  ngạo thế cửu trùng thiên   182044  9.8   \n",
       "\n",
       "                                            describe  \\\n",
       "0                    phần 3 của tiểu lam và tiểu lục   \n",
       "1  hai nghìn năm trước, một hậu duệ của gia tộc y...   \n",
       "2  trên kiếm vực đại lục xa xưa, có mười thanh ki...   \n",
       "3  tương truyền huyền đế tạo ra cửu thiên huyền đ...   \n",
       "4  vì nắm giữ thần vật cửu kiếp kiếm của đại lục ...   \n",
       "\n",
       "                                         movie_genre      nation follower  \\\n",
       "0        ['anime bộ', 'fantasy', 'drama', 'comedy,']  trung quốc        7   \n",
       "1  ['anime bộ', 'fantasy', 'adventure', 'historic...  trung quốc       25   \n",
       "2  ['anime bộ', 'fantasy', 'adventure', 'martial ...  trung quốc     1417   \n",
       "3                            ['anime bộ', 'action,']  trung quốc     2077   \n",
       "4                           ['anime bộ', 'cartoon,']  trung quốc      214   \n",
       "\n",
       "                          rating season  \n",
       "0  pg-13 - teens 13 tuổi trở lên   2023  \n",
       "1  pg-13 - teens 13 tuổi trở lên   2023  \n",
       "2  pg-13 - teens 13 tuổi trở lên   2021  \n",
       "3                           none   2021  \n",
       "4  pg-13 - teens 13 tuổi trở lên   2023  "
      ]
     },
     "execution_count": 27,
     "metadata": {},
     "output_type": "execute_result"
    }
   ],
   "source": [
    "data.head()"
   ]
  },
  {
   "cell_type": "markdown",
   "id": "d689079b",
   "metadata": {},
   "source": [
    "Xử lý dữ liệu"
   ]
  },
  {
   "cell_type": "code",
   "execution_count": 28,
   "id": "0ffb2cc8",
   "metadata": {},
   "outputs": [],
   "source": [
    "anime_data = data.copy()"
   ]
  },
  {
   "cell_type": "code",
   "execution_count": 29,
   "id": "c0092d72",
   "metadata": {},
   "outputs": [],
   "source": [
    "# Bộ Vietnamese stopwords\n",
    "vietnamese_stopwords = set([\n",
    "    'cả', 'các', 'cần', 'càng', 'chỉ', 'chiếc', 'cho', 'chứ', 'chưa', 'chuyện', 'có', 'có_thể', 'cứ', 'của', \n",
    "    'cùng', 'cũng', 'đã', 'đang', 'đây', 'để', 'đến_nỗi', 'đều', 'điều', 'do', 'đó', 'được', 'dưới', 'gì', \n",
    "    'khi', 'không', 'là', 'lại', 'lên', 'lúc', 'mà', 'mỗi', 'một_cách', 'này', 'nên', 'nếu', 'ngay', 'nhiều', \n",
    "    'như', 'nhưng', 'những', 'nơi', 'nữa', 'phải', 'qua', 'ra', 'rằng', 'rất', 'rồi', 'sau', 'sẽ', 'so', \n",
    "    'sự', 'tại', 'theo', 'thì', 'trên', 'trước', 'từ', 'từng', 'và', 'vẫn', 'vào', 'vậy', 'vì', 'việc', 'với', \n",
    "    'vừa', 'hơn','một','phần','nắm','cuộc','bị','mùa','thứ','một','về','hai','ba','bốn','năm','sáu','bảy','tám',\n",
    "    'chín','mười'\n",
    "])"
   ]
  },
  {
   "cell_type": "code",
   "execution_count": 30,
   "id": "07e6a5d4",
   "metadata": {},
   "outputs": [],
   "source": [
    "def preprocess_text(text):\n",
    "\n",
    "    # Loại bỏ các ký tự đặc biệt\n",
    "    text = re.sub(r'[!@#$%^&*)(\";:|\\/><.,-_]', '', text)\n",
    "    # Tách thành từng từ\n",
    "    words = text.split()\n",
    "    # Loại bỏ từ dừng\n",
    "    words = [word for word in words if word not in vietnamese_stopwords]\n",
    "    # Ghép các từ lại thành câu\n",
    "    return ' '.join(words)\n",
    "\n",
    "# Loại bỏ các ký tự đặc biệt cho cột 'describe'\n",
    "anime_data['describe'] = anime_data['describe'].apply(preprocess_text)"
   ]
  },
  {
   "cell_type": "code",
   "execution_count": 31,
   "id": "6fc51f01",
   "metadata": {},
   "outputs": [
    {
     "data": {
      "text/plain": [
       "0                                    tiểu lam tiểu lục\n",
       "1    nghìn hậu duệ gia tộc yinyang cảm thấy đau buồ...\n",
       "2    kiếm vực đại lục xa xưa thanh kiếm thần đại gi...\n",
       "3    tương truyền huyền đế tạo cửu thiên huyền đế q...\n",
       "4    giữ thần vật cửu kiếp kiếm đại lục cửu trùng t...\n",
       "Name: describe, dtype: object"
      ]
     },
     "execution_count": 31,
     "metadata": {},
     "output_type": "execute_result"
    }
   ],
   "source": [
    "anime_data['describe'].head()"
   ]
  },
  {
   "cell_type": "code",
   "execution_count": 32,
   "id": "177dc4d2",
   "metadata": {},
   "outputs": [
    {
     "data": {
      "text/plain": [
       "0          ['anime bộ', 'fantasy', 'drama', 'comedy,']\n",
       "1    ['anime bộ', 'fantasy', 'adventure', 'historic...\n",
       "2    ['anime bộ', 'fantasy', 'adventure', 'martial ...\n",
       "3                              ['anime bộ', 'action,']\n",
       "4                             ['anime bộ', 'cartoon,']\n",
       "Name: movie_genre, dtype: object"
      ]
     },
     "execution_count": 32,
     "metadata": {},
     "output_type": "execute_result"
    }
   ],
   "source": [
    "anime_data['movie_genre'].head()"
   ]
  },
  {
   "cell_type": "code",
   "execution_count": 33,
   "id": "ec56073c",
   "metadata": {},
   "outputs": [
    {
     "data": {
      "text/plain": [
       "0    trung quốc\n",
       "1    trung quốc\n",
       "2    trung quốc\n",
       "3    trung quốc\n",
       "4    trung quốc\n",
       "Name: nation, dtype: object"
      ]
     },
     "execution_count": 33,
     "metadata": {},
     "output_type": "execute_result"
    }
   ],
   "source": [
    "anime_data['nation'].head()"
   ]
  },
  {
   "cell_type": "code",
   "execution_count": 34,
   "id": "51954fe0",
   "metadata": {},
   "outputs": [
    {
     "data": {
      "text/plain": [
       "0                  [anime_bộ, fantasy, drama, comedy, ]\n",
       "1     [anime_bộ, fantasy, adventure, historical, mar...\n",
       "2     [anime_bộ, fantasy, adventure, martial_arts, a...\n",
       "3                                  [anime_bộ, action, ]\n",
       "4                                 [anime_bộ, cartoon, ]\n",
       "5                    [anime_bộ, martial_arts, action, ]\n",
       "6                        [anime_bộ, cartoon, fantasy, ]\n",
       "7                                  [anime_bộ, action, ]\n",
       "8     [anime_bộ, supernatural, adventure, magic, act...\n",
       "9     [anime_bộ, cartoon, fantasy, adventure, martia...\n",
       "10          [anime_bộ, shounen, supernatural, horror, ]\n",
       "11                         [anime_bộ, seinen, sports, ]\n",
       "12    [anime_bộ, slice_of_life, school, romance, har...\n",
       "13                                 [anime_bộ, sports, ]\n",
       "14    [anime_bộ, seinen, supernatural, romance, psyc...\n",
       "15    [anime_bộ, slice_of_life, shoujo, supernatural...\n",
       "16                        [anime_bộ, shounen, sports, ]\n",
       "17    [anime_bộ, shounen, game, fantasy, adventure, ...\n",
       "18               [anime_bộ, romance, fantasy, comedy, ]\n",
       "19          [anime_bộ, shounen, sci-fi, comedy, kids, ]\n",
       "Name: movie_genre, dtype: object"
      ]
     },
     "execution_count": 34,
     "metadata": {},
     "output_type": "execute_result"
    }
   ],
   "source": [
    "# Hàm được sửa đổi để xử lý các giá trị không phải chuỗi trong 'movie_genre'\n",
    "def normalize_and_tokenize_genres_v2(genre_text):\n",
    "    if not isinstance(genre_text, str):\n",
    "        return []\n",
    "\n",
    "    # Xóa dấu ngoặc và dấu ngoặc kép\n",
    "    genre_text = genre_text.replace(\"[\", \"\").replace(\"]\", \"\").replace(\"'\", \"\").replace('\"', '')\n",
    "    # Chia bằng dấu phẩy\n",
    "    genres = genre_text.split(',')\n",
    "    # Chuẩn hóa (cắt và thay thế dấu cách bằng dấu gạch dưới trong các từ ghép)\n",
    "    normalized_genres = [genre.strip().replace(' ', '_') for genre in genres]\n",
    "    return normalized_genres\n",
    "\n",
    "# Áp dụng chức năng đã sửa đổi cho cột 'movie_genre'\n",
    "anime_data['movie_genre'] = anime_data['movie_genre'].apply(normalize_and_tokenize_genres_v2)\n",
    "\n",
    "# Hiển thị\n",
    "anime_data['movie_genre'].head(20)\n"
   ]
  },
  {
   "cell_type": "code",
   "execution_count": 35,
   "id": "07c21baa",
   "metadata": {},
   "outputs": [
    {
     "data": {
      "text/plain": [
       "0                                    tiểu_lam tiểu_lục\n",
       "1    nghìn hậu_duệ gia_tộc yinyang cảm_thấy đau_buồ...\n",
       "2    kiếm vực đại_lục xa_xưa thanh kiếm thần đại_gi...\n",
       "3    tương_truyền huyền_đế tạo cửu_thiên huyền_đế q...\n",
       "4    giữ thần_vật cửu_kiếp kiếm đại_lục_cửu trùng_t...\n",
       "Name: describe, dtype: object"
      ]
     },
     "execution_count": 35,
     "metadata": {},
     "output_type": "execute_result"
    }
   ],
   "source": [
    "# Sử dụng thư viện Underthesea cho tiếng Việt để tách từ\n",
    "from underthesea import word_tokenize\n",
    "# Áp dụng hàm word_tokenize cho mỗi dòng của cột 'describe'\n",
    "anime_data['describe'] = anime_data['describe'].apply(lambda x: word_tokenize(x, format=\"text\"))\n",
    "anime_data['describe'].head()"
   ]
  },
  {
   "cell_type": "code",
   "execution_count": 36,
   "id": "9defd3f1",
   "metadata": {},
   "outputs": [
    {
     "data": {
      "text/plain": [
       "0    trung_quốc\n",
       "1    trung_quốc\n",
       "2    trung_quốc\n",
       "3    trung_quốc\n",
       "4    trung_quốc\n",
       "Name: nation, dtype: object"
      ]
     },
     "execution_count": 36,
     "metadata": {},
     "output_type": "execute_result"
    }
   ],
   "source": [
    "# Áp dụng hàm word_tokenize cho mỗi dòng của cột 'nation'\n",
    "anime_data['nation'] = anime_data['nation'].apply(lambda x: word_tokenize(x, format=\"text\"))\n",
    "anime_data['nation'].head()"
   ]
  },
  {
   "cell_type": "code",
   "execution_count": 37,
   "id": "f0b443f6",
   "metadata": {},
   "outputs": [],
   "source": [
    "# Lưu dữ liệu vào tệp CSV \"animeclear.csv\"\n",
    "anime_data.to_csv(r\"D:\\projects\\Recommendation_Movie\\Data_csv\\Anime_TXL.csv\", index=False, encoding='utf-8-sig')\n"
   ]
  },
  {
   "cell_type": "markdown",
   "id": "fe362dcd",
   "metadata": {},
   "source": [
    "Tiến hành gộp cái cột dữ liệu"
   ]
  },
  {
   "cell_type": "code",
   "execution_count": 38,
   "id": "d61b9810",
   "metadata": {},
   "outputs": [
    {
     "data": {
      "text/html": [
       "<div>\n",
       "<style scoped>\n",
       "    .dataframe tbody tr th:only-of-type {\n",
       "        vertical-align: middle;\n",
       "    }\n",
       "\n",
       "    .dataframe tbody tr th {\n",
       "        vertical-align: top;\n",
       "    }\n",
       "\n",
       "    .dataframe thead th {\n",
       "        text-align: right;\n",
       "    }\n",
       "</style>\n",
       "<table border=\"1\" class=\"dataframe\">\n",
       "  <thead>\n",
       "    <tr style=\"text-align: right;\">\n",
       "      <th></th>\n",
       "      <th>title</th>\n",
       "      <th>view</th>\n",
       "      <th>vote</th>\n",
       "      <th>describe</th>\n",
       "      <th>movie_genre</th>\n",
       "      <th>nation</th>\n",
       "      <th>follower</th>\n",
       "      <th>rating</th>\n",
       "      <th>season</th>\n",
       "    </tr>\n",
       "  </thead>\n",
       "  <tbody>\n",
       "    <tr>\n",
       "      <th>0</th>\n",
       "      <td>tiểu lam và tiểu lục 3</td>\n",
       "      <td>8681</td>\n",
       "      <td>1.6</td>\n",
       "      <td>tiểu_lam tiểu_lục</td>\n",
       "      <td>['anime_bộ', 'fantasy', 'drama', 'comedy', '']</td>\n",
       "      <td>trung_quốc</td>\n",
       "      <td>7</td>\n",
       "      <td>pg-13 - teens 13 tuổi trở lên</td>\n",
       "      <td>2023.0</td>\n",
       "    </tr>\n",
       "    <tr>\n",
       "      <th>1</th>\n",
       "      <td>thất hầu bút lục</td>\n",
       "      <td>2495</td>\n",
       "      <td>5.0</td>\n",
       "      <td>nghìn hậu_duệ gia_tộc yinyang cảm_thấy đau_buồ...</td>\n",
       "      <td>['anime_bộ', 'fantasy', 'adventure', 'historic...</td>\n",
       "      <td>trung_quốc</td>\n",
       "      <td>25</td>\n",
       "      <td>pg-13 - teens 13 tuổi trở lên</td>\n",
       "      <td>2023.0</td>\n",
       "    </tr>\n",
       "    <tr>\n",
       "      <th>2</th>\n",
       "      <td>kiếm vực phong vân</td>\n",
       "      <td>1247603</td>\n",
       "      <td>7.7</td>\n",
       "      <td>kiếm vực đại_lục xa_xưa thanh kiếm thần đại_gi...</td>\n",
       "      <td>['anime_bộ', 'fantasy', 'adventure', 'martial_...</td>\n",
       "      <td>trung_quốc</td>\n",
       "      <td>1417</td>\n",
       "      <td>pg-13 - teens 13 tuổi trở lên</td>\n",
       "      <td>2021.0</td>\n",
       "    </tr>\n",
       "    <tr>\n",
       "      <th>3</th>\n",
       "      <td>cửu thiên huyền đế quyết</td>\n",
       "      <td>1773588</td>\n",
       "      <td>4.7</td>\n",
       "      <td>tương_truyền huyền_đế tạo cửu_thiên huyền_đế q...</td>\n",
       "      <td>['anime_bộ', 'action', '']</td>\n",
       "      <td>trung_quốc</td>\n",
       "      <td>2077</td>\n",
       "      <td>none</td>\n",
       "      <td>2021.0</td>\n",
       "    </tr>\n",
       "    <tr>\n",
       "      <th>4</th>\n",
       "      <td>ngạo thế cửu trùng thiên</td>\n",
       "      <td>182044</td>\n",
       "      <td>9.8</td>\n",
       "      <td>giữ thần_vật cửu_kiếp kiếm đại_lục_cửu trùng_t...</td>\n",
       "      <td>['anime_bộ', 'cartoon', '']</td>\n",
       "      <td>trung_quốc</td>\n",
       "      <td>214</td>\n",
       "      <td>pg-13 - teens 13 tuổi trở lên</td>\n",
       "      <td>2023.0</td>\n",
       "    </tr>\n",
       "  </tbody>\n",
       "</table>\n",
       "</div>"
      ],
      "text/plain": [
       "                      title     view  vote  \\\n",
       "0    tiểu lam và tiểu lục 3     8681   1.6   \n",
       "1          thất hầu bút lục     2495   5.0   \n",
       "2        kiếm vực phong vân  1247603   7.7   \n",
       "3  cửu thiên huyền đế quyết  1773588   4.7   \n",
       "4  ngạo thế cửu trùng thiên   182044   9.8   \n",
       "\n",
       "                                            describe  \\\n",
       "0                                  tiểu_lam tiểu_lục   \n",
       "1  nghìn hậu_duệ gia_tộc yinyang cảm_thấy đau_buồ...   \n",
       "2  kiếm vực đại_lục xa_xưa thanh kiếm thần đại_gi...   \n",
       "3  tương_truyền huyền_đế tạo cửu_thiên huyền_đế q...   \n",
       "4  giữ thần_vật cửu_kiếp kiếm đại_lục_cửu trùng_t...   \n",
       "\n",
       "                                         movie_genre      nation  follower  \\\n",
       "0     ['anime_bộ', 'fantasy', 'drama', 'comedy', '']  trung_quốc         7   \n",
       "1  ['anime_bộ', 'fantasy', 'adventure', 'historic...  trung_quốc        25   \n",
       "2  ['anime_bộ', 'fantasy', 'adventure', 'martial_...  trung_quốc      1417   \n",
       "3                         ['anime_bộ', 'action', '']  trung_quốc      2077   \n",
       "4                        ['anime_bộ', 'cartoon', '']  trung_quốc       214   \n",
       "\n",
       "                          rating  season  \n",
       "0  pg-13 - teens 13 tuổi trở lên  2023.0  \n",
       "1  pg-13 - teens 13 tuổi trở lên  2023.0  \n",
       "2  pg-13 - teens 13 tuổi trở lên  2021.0  \n",
       "3                           none  2021.0  \n",
       "4  pg-13 - teens 13 tuổi trở lên  2023.0  "
      ]
     },
     "execution_count": 38,
     "metadata": {},
     "output_type": "execute_result"
    }
   ],
   "source": [
    "# Tải tệp csv lên\n",
    "file_path = r\"D:\\projects\\Recommendation_Movie\\Data_csv\\Anime_TXL.csv\"\n",
    "anime_data = pd.read_csv(file_path)\n",
    "anime_data.head(5)"
   ]
  },
  {
   "cell_type": "code",
   "execution_count": 39,
   "id": "7e88c287",
   "metadata": {},
   "outputs": [],
   "source": [
    "# Xóa các hàng có giá trị NaN trong tất cả các cột\n",
    "anime_data.dropna(inplace=True)"
   ]
  },
  {
   "cell_type": "code",
   "execution_count": 40,
   "id": "b9c4f921",
   "metadata": {
    "scrolled": true
   },
   "outputs": [
    {
     "data": {
      "text/plain": [
       "0                        anime_bộ fantasy drama comedy\n",
       "1    anime_bộ fantasy adventure historical martial_...\n",
       "2       anime_bộ fantasy adventure martial_arts action\n",
       "3                                      anime_bộ action\n",
       "4                                     anime_bộ cartoon\n",
       "Name: movie_genre, dtype: object"
      ]
     },
     "execution_count": 40,
     "metadata": {},
     "output_type": "execute_result"
    }
   ],
   "source": [
    "import ast\n",
    "# Chuyển đổi chuỗi thành danh sách Python và sau đó xử lý cột 'movie_genre'\n",
    "anime_data['movie_genre'] = anime_data['movie_genre'].apply(lambda x: ' '.join(filter(None, ast.literal_eval(x))))\n",
    "\n",
    "# In ra DataFrame sau khi xử lý\n",
    "anime_data['movie_genre'].head()"
   ]
  },
  {
   "cell_type": "code",
   "execution_count": 41,
   "id": "2f7ed80a",
   "metadata": {},
   "outputs": [
    {
     "data": {
      "image/png": "[encoded data removed]",
      "text/plain": [
       "<Figure size 640x480 with 1 Axes>"
      ]
     },
     "metadata": {},
     "output_type": "display_data"
    }
   ],
   "source": [
    "# Tạo một ánh xạ (mapping) từ các rating hiện có đến các nhóm tương ứng\n",
    "rating_mapping = {\n",
    "    'pg-13 - teens 13 tuổi trở lên': 'tuổi_teen',\n",
    "    'không rõ': 'không_rõ',\n",
    "    'r - 17+ (bạo lực và tục tĩu)': 'người_lớn',\n",
    "    'g - mọi lứa tuổi': 'mọi_lứa_tuổi',\n",
    "    'pg - trẻ em': 'trẻ_em',\n",
    "    'r+ - dành cho 16 tuổi trở lên': 'người_lớn',\n",
    "    'pg-13': 'tuổi_teen',\n",
    "    'nona': 'không_rõ',\n",
    "    'đang cập nhập': 'không_rõ',\n",
    "    'rx - hentai': 'người_lớn',\n",
    "    'r + - ảnh khỏa thân nhẹ': 'người_lớn',\n",
    "    '13+ - teens 13 or older': 'tuổi_teen',\n",
    "    'r+ 17': 'người_lớn',\n",
    "    'pg - children': 'trẻ_em',\n",
    "    'r+ - dành cho 69 tuổi trở lên': 'người_già',\n",
    "    'undefined': 'không_rõ'\n",
    "}\n",
    "\n",
    "# Ánh xạ các giá trị trong cột 'rating' bằng cách sử dụng ánh xạ đã tạo\n",
    "anime_data['rating'] = anime_data['rating'].map(rating_mapping)\n",
    "\n",
    "# Vẽ biểu đồ phân phối của các nhóm rating\n",
    "sns.countplot(data=anime_data, x='rating', order=anime_data['rating'].value_counts().index)\n",
    "plt.xticks(rotation=45)\n",
    "plt.show()"
   ]
  },
  {
   "cell_type": "code",
   "execution_count": 42,
   "id": "936004aa",
   "metadata": {},
   "outputs": [],
   "source": [
    "df = anime_data.copy()"
   ]
  },
  {
   "cell_type": "code",
   "execution_count": 43,
   "metadata": {},
   "outputs": [],
   "source": [
    "# Tích gộp các cột lại để khởi tạo mô hình\n",
    "df['combined_text'] = df['describe'] + ' ' + df['movie_genre'] + ' ' + df['nation'] + ' ' + df['rating'].astype(str)\n"
   ]
  },
  {
   "cell_type": "code",
   "execution_count": 44,
   "metadata": {},
   "outputs": [
    {
     "data": {
      "text/html": [
       "<div>\n",
       "<style scoped>\n",
       "    .dataframe tbody tr th:only-of-type {\n",
       "        vertical-align: middle;\n",
       "    }\n",
       "\n",
       "    .dataframe tbody tr th {\n",
       "        vertical-align: top;\n",
       "    }\n",
       "\n",
       "    .dataframe thead th {\n",
       "        text-align: right;\n",
       "    }\n",
       "</style>\n",
       "<table border=\"1\" class=\"dataframe\">\n",
       "  <thead>\n",
       "    <tr style=\"text-align: right;\">\n",
       "      <th></th>\n",
       "      <th>title</th>\n",
       "      <th>view</th>\n",
       "      <th>vote</th>\n",
       "      <th>describe</th>\n",
       "      <th>movie_genre</th>\n",
       "      <th>nation</th>\n",
       "      <th>follower</th>\n",
       "      <th>rating</th>\n",
       "      <th>season</th>\n",
       "      <th>combined_text</th>\n",
       "    </tr>\n",
       "  </thead>\n",
       "  <tbody>\n",
       "    <tr>\n",
       "      <th>0</th>\n",
       "      <td>tiểu lam và tiểu lục 3</td>\n",
       "      <td>8681</td>\n",
       "      <td>1.6</td>\n",
       "      <td>tiểu_lam tiểu_lục</td>\n",
       "      <td>anime_bộ fantasy drama comedy</td>\n",
       "      <td>trung_quốc</td>\n",
       "      <td>7</td>\n",
       "      <td>tuổi_teen</td>\n",
       "      <td>2023.0</td>\n",
       "      <td>tiểu_lam tiểu_lục anime_bộ fantasy drama comed...</td>\n",
       "    </tr>\n",
       "    <tr>\n",
       "      <th>1</th>\n",
       "      <td>thất hầu bút lục</td>\n",
       "      <td>2495</td>\n",
       "      <td>5.0</td>\n",
       "      <td>nghìn hậu_duệ gia_tộc yinyang cảm_thấy đau_buồ...</td>\n",
       "      <td>anime_bộ fantasy adventure historical martial_...</td>\n",
       "      <td>trung_quốc</td>\n",
       "      <td>25</td>\n",
       "      <td>tuổi_teen</td>\n",
       "      <td>2023.0</td>\n",
       "      <td>nghìn hậu_duệ gia_tộc yinyang cảm_thấy đau_buồ...</td>\n",
       "    </tr>\n",
       "    <tr>\n",
       "      <th>2</th>\n",
       "      <td>kiếm vực phong vân</td>\n",
       "      <td>1247603</td>\n",
       "      <td>7.7</td>\n",
       "      <td>kiếm vực đại_lục xa_xưa thanh kiếm thần đại_gi...</td>\n",
       "      <td>anime_bộ fantasy adventure martial_arts action</td>\n",
       "      <td>trung_quốc</td>\n",
       "      <td>1417</td>\n",
       "      <td>tuổi_teen</td>\n",
       "      <td>2021.0</td>\n",
       "      <td>kiếm vực đại_lục xa_xưa thanh kiếm thần đại_gi...</td>\n",
       "    </tr>\n",
       "    <tr>\n",
       "      <th>3</th>\n",
       "      <td>cửu thiên huyền đế quyết</td>\n",
       "      <td>1773588</td>\n",
       "      <td>4.7</td>\n",
       "      <td>tương_truyền huyền_đế tạo cửu_thiên huyền_đế q...</td>\n",
       "      <td>anime_bộ action</td>\n",
       "      <td>trung_quốc</td>\n",
       "      <td>2077</td>\n",
       "      <td>NaN</td>\n",
       "      <td>2021.0</td>\n",
       "      <td>tương_truyền huyền_đế tạo cửu_thiên huyền_đế q...</td>\n",
       "    </tr>\n",
       "    <tr>\n",
       "      <th>4</th>\n",
       "      <td>ngạo thế cửu trùng thiên</td>\n",
       "      <td>182044</td>\n",
       "      <td>9.8</td>\n",
       "      <td>giữ thần_vật cửu_kiếp kiếm đại_lục_cửu trùng_t...</td>\n",
       "      <td>anime_bộ cartoon</td>\n",
       "      <td>trung_quốc</td>\n",
       "      <td>214</td>\n",
       "      <td>tuổi_teen</td>\n",
       "      <td>2023.0</td>\n",
       "      <td>giữ thần_vật cửu_kiếp kiếm đại_lục_cửu trùng_t...</td>\n",
       "    </tr>\n",
       "  </tbody>\n",
       "</table>\n",
       "</div>"
      ],
      "text/plain": [
       "                      title     view  vote  \\\n",
       "0    tiểu lam và tiểu lục 3     8681   1.6   \n",
       "1          thất hầu bút lục     2495   5.0   \n",
       "2        kiếm vực phong vân  1247603   7.7   \n",
       "3  cửu thiên huyền đế quyết  1773588   4.7   \n",
       "4  ngạo thế cửu trùng thiên   182044   9.8   \n",
       "\n",
       "                                            describe  \\\n",
       "0                                  tiểu_lam tiểu_lục   \n",
       "1  nghìn hậu_duệ gia_tộc yinyang cảm_thấy đau_buồ...   \n",
       "2  kiếm vực đại_lục xa_xưa thanh kiếm thần đại_gi...   \n",
       "3  tương_truyền huyền_đế tạo cửu_thiên huyền_đế q...   \n",
       "4  giữ thần_vật cửu_kiếp kiếm đại_lục_cửu trùng_t...   \n",
       "\n",
       "                                         movie_genre      nation  follower  \\\n",
       "0                      anime_bộ fantasy drama comedy  trung_quốc         7   \n",
       "1  anime_bộ fantasy adventure historical martial_...  trung_quốc        25   \n",
       "2     anime_bộ fantasy adventure martial_arts action  trung_quốc      1417   \n",
       "3                                    anime_bộ action  trung_quốc      2077   \n",
       "4                                   anime_bộ cartoon  trung_quốc       214   \n",
       "\n",
       "      rating  season                                      combined_text  \n",
       "0  tuổi_teen  2023.0  tiểu_lam tiểu_lục anime_bộ fantasy drama comed...  \n",
       "1  tuổi_teen  2023.0  nghìn hậu_duệ gia_tộc yinyang cảm_thấy đau_buồ...  \n",
       "2  tuổi_teen  2021.0  kiếm vực đại_lục xa_xưa thanh kiếm thần đại_gi...  \n",
       "3        NaN  2021.0  tương_truyền huyền_đế tạo cửu_thiên huyền_đế q...  \n",
       "4  tuổi_teen  2023.0  giữ thần_vật cửu_kiếp kiếm đại_lục_cửu trùng_t...  "
      ]
     },
     "execution_count": 44,
     "metadata": {},
     "output_type": "execute_result"
    }
   ],
   "source": [
    "df.head()"
   ]
  },
  {
   "cell_type": "code",
   "execution_count": 45,
   "metadata": {},
   "outputs": [
    {
     "data": {
      "text/plain": [
       "(4748, 10)"
      ]
     },
     "execution_count": 45,
     "metadata": {},
     "output_type": "execute_result"
    }
   ],
   "source": [
    "df.shape"
   ]
  },
  {
   "cell_type": "code",
   "execution_count": 46,
   "id": "e44cf9cd",
   "metadata": {},
   "outputs": [],
   "source": [
    "# Xóa các hàng có giá trị NaN trong tất cả các cột\n",
    "df.dropna(inplace=True)"
   ]
  },
  {
   "cell_type": "markdown",
   "id": "d95a7cc3",
   "metadata": {},
   "source": [
    "Tiến hành trực quan hóa tần xuất xuất hiện của mỗi từ"
   ]
  },
  {
   "cell_type": "code",
   "execution_count": 51,
   "id": "0fa0a19d",
   "metadata": {},
   "outputs": [
    {
     "data": {
      "image/png": "[encoded data removed]",
      "text/plain": [
       "<Figure size 1000x500 with 1 Axes>"
      ]
     },
     "metadata": {},
     "output_type": "display_data"
    }
   ],
   "source": [
    "# Tạo TF-IDF Vectorizer \n",
    "tfidf_vectorizer = TfidfVectorizer()\n",
    "tfidf_matrix = tfidf_vectorizer.fit_transform(df['combined_text'])\n",
    "\n",
    "# Tính tổng TF-IDF cho mỗi từ sử dụng biểu diễn sparse\n",
    "word_tfidf_sum = tfidf_matrix.sum(axis=0)\n",
    "\n",
    "# Chuyển đổi kết quả thành một mảng numpy\n",
    "word_tfidf_sum = np.array(word_tfidf_sum).flatten()\n",
    "\n",
    "# Lấy danh sách từ vựng\n",
    "feature_names = tfidf_vectorizer.get_feature_names_out()\n",
    "\n",
    "# Tạo một dictionary từ feature names và tổng TF-IDF\n",
    "word_freq_dict = dict(zip(feature_names, word_tfidf_sum))\n",
    "\n",
    "# Tạo đối tượng WordCloud\n",
    "wordcloud = WordCloud(width=800, height=400, background_color='white', max_words=100).generate_from_frequencies(word_freq_dict)\n",
    "\n",
    "# Trực quan hóa WordCloud\n",
    "plt.figure(figsize=(10, 5))\n",
    "plt.imshow(wordcloud, interpolation='bilinear')\n",
    "plt.axis('off')\n",
    "plt.title('Word Cloud of Combined Text in Movie Data')\n",
    "plt.show()"
   ]
  },
  {
   "cell_type": "markdown",
   "id": "7357f3a8",
   "metadata": {},
   "source": [
    "Lưu vào Model.csv"
   ]
  },
  {
   "cell_type": "code",
   "execution_count": 47,
   "id": "25bda694",
   "metadata": {},
   "outputs": [],
   "source": [
    "# Lưu dữ liệu vào tệp CSV \"Model.csv\"\n",
    "df.to_csv(r\"D:\\projects\\Recommendation_Movie\\Data_csv\\Model.csv\", index=False, encoding='utf-8-sig')\n"
   ]
  }
 ],
 "metadata": {
  "kernelspec": {
   "display_name": "Python 3 (ipykernel)",
   "language": "python",
   "name": "python3"
  },
  "language_info": {
   "codemirror_mode": {
    "name": "ipython",
    "version": 3
   },
   "file_extension": ".py",
   "mimetype": "text/x-python",
   "name": "python",
   "nbconvert_exporter": "python",
   "pygments_lexer": "ipython3",
   "version": "3.10.9"
  }
 },
 "nbformat": 4,
 "nbformat_minor": 5
}
